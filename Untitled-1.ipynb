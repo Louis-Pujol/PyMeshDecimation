{
 "cells": [
  {
   "cell_type": "code",
   "execution_count": 2,
   "metadata": {},
   "outputs": [
    {
     "name": "stdout",
     "output_type": "stream",
     "text": [
      "No boundary edges found\n"
     ]
    }
   ],
   "source": [
    "from QuadricDecimation_numba import _do_decimation\n",
    "from QuadricDecimation import _compute_alphas, _decimate\n",
    "import pyvista\n",
    "import numpy as np\n",
    "\n",
    "target_reduction = 0.99\n",
    "\n",
    "mesh = pyvista.read(\"data/mesh003.ply\")\n",
    "output_points, collapses_history, newpoints = _do_decimation(mesh, target_reduction)"
   ]
  },
  {
   "cell_type": "code",
   "execution_count": 3,
   "metadata": {},
   "outputs": [],
   "source": [
    "# Replay the decimation\n",
    "alphas = _compute_alphas(mesh.points, collapses_history, newpoints)\n",
    "decimated_points = _decimate(mesh.points, alphas, collapses_history)\n",
    "keep = np.setdiff1d(np.arange(len(mesh.points)), collapses_history[:, 1])\n",
    "decimated_points = decimated_points[keep]"
   ]
  },
  {
   "cell_type": "code",
   "execution_count": 4,
   "metadata": {},
   "outputs": [],
   "source": [
    "# Decimate with VTK\n",
    "decimated_points_vtk = mesh.decimate(target_reduction).points"
   ]
  },
  {
   "cell_type": "code",
   "execution_count": null,
   "metadata": {},
   "outputs": [],
   "source": [
    "# Save the results\n",
    "pyvista.PolyData(output_points).save(\"output/decimation_numba.vtk\")\n",
    "pyvista.PolyData(decimated_points).save(\"output/decimation_numba_replay.vtk\")\n",
    "pyvista.PolyData(decimated_points_vtk).save(\"output/decimation_vtk.vtk\")"
   ]
  },
  {
   "cell_type": "code",
   "execution_count": 9,
   "metadata": {},
   "outputs": [],
   "source": [
    "for i, mesh in enumerate(\n",
    "    [pyvista.read(\"data/mesh00{}.ply\".format(i)) for i in range(6)]\n",
    "):\n",
    "    # Replay the decimation\n",
    "    decimated_points = _decimate(mesh.points, alphas, collapses_history)\n",
    "    keep = np.setdiff1d(np.arange(len(mesh.points)), collapses_history[:, 1])\n",
    "    decimated_points = decimated_points[keep]\n",
    "\n",
    "    pyvista.PolyData(decimated_points).save(\"output/decimation_mesh{}.vtk\".format(i))"
   ]
  },
  {
   "cell_type": "code",
   "execution_count": 1,
   "metadata": {},
   "outputs": [
    {
     "ename": "ImportError",
     "evalue": "cannot import name 'decimation' from 'pyDecimation.cython.decimation' (unknown location)",
     "output_type": "error",
     "traceback": [
      "\u001b[0;31m---------------------------------------------------------------------------\u001b[0m",
      "\u001b[0;31mImportError\u001b[0m                               Traceback (most recent call last)",
      "Cell \u001b[0;32mIn[1], line 1\u001b[0m\n\u001b[0;32m----> 1\u001b[0m \u001b[39mimport\u001b[39;00m \u001b[39mpyDecimation\u001b[39;00m\n\u001b[1;32m      2\u001b[0m \u001b[39mimport\u001b[39;00m \u001b[39mpyvista\u001b[39;00m\n\u001b[1;32m      3\u001b[0m \u001b[39mimport\u001b[39;00m \u001b[39mpyvista\u001b[39;00m\u001b[39m.\u001b[39;00m\u001b[39mexamples\u001b[39;00m\n",
      "File \u001b[0;32m~/Github/pyDecimation/pyDecimation/__init__.py:2\u001b[0m\n\u001b[1;32m      1\u001b[0m \u001b[39mfrom\u001b[39;00m \u001b[39m.\u001b[39;00m \u001b[39mimport\u001b[39;00m numba\n\u001b[0;32m----> 2\u001b[0m \u001b[39mfrom\u001b[39;00m \u001b[39m.\u001b[39;00m \u001b[39mimport\u001b[39;00m cython\n",
      "File \u001b[0;32m~/Github/pyDecimation/pyDecimation/cython/__init__.py:1\u001b[0m\n\u001b[0;32m----> 1\u001b[0m \u001b[39mfrom\u001b[39;00m \u001b[39m.\u001b[39;00m\u001b[39mdecimation\u001b[39;00m \u001b[39mimport\u001b[39;00m decimation\n",
      "\u001b[0;31mImportError\u001b[0m: cannot import name 'decimation' from 'pyDecimation.cython.decimation' (unknown location)"
     ]
    }
   ],
   "source": [
    "import pyDecimation\n",
    "import pyvista\n",
    "import pyvista.examples\n",
    "\n",
    "mesh = pyvista.Sphere()\n",
    "\n",
    "points = mesh.points\n",
    "triangles = mesh.faces.reshape(-1, 4)[:, 1:].T\n",
    "\n",
    "%time output_points, collapse_history, newpoints = pyDecimation.numba.decimate(points=points, triangles=triangles, target_reduction=0.9)\n",
    "\n",
    "p = pyvista.Plotter()\n",
    "p.add_points(mesh.points, color=\"k\")\n",
    "p.add_points(output_points, color=\"r\")\n",
    "p.show()"
   ]
  },
  {
   "cell_type": "code",
   "execution_count": 2,
   "metadata": {},
   "outputs": [
    {
     "ename": "ImportError",
     "evalue": "cannot import name 'decimation' from 'pyDecimation.cython.decimation' (unknown location)",
     "output_type": "error",
     "traceback": [
      "\u001b[0;31m---------------------------------------------------------------------------\u001b[0m",
      "\u001b[0;31mImportError\u001b[0m                               Traceback (most recent call last)",
      "Cell \u001b[0;32mIn[2], line 1\u001b[0m\n\u001b[0;32m----> 1\u001b[0m \u001b[39mfrom\u001b[39;00m \u001b[39mpyDecimation\u001b[39;00m\u001b[39m.\u001b[39;00m\u001b[39mcython\u001b[39;00m\u001b[39m.\u001b[39;00m\u001b[39mdecimation\u001b[39;00m \u001b[39mimport\u001b[39;00m decimation\n",
      "\u001b[0;31mImportError\u001b[0m: cannot import name 'decimation' from 'pyDecimation.cython.decimation' (unknown location)"
     ]
    }
   ],
   "source": [
    "from pyDecimation.cython.decimation import decimation"
   ]
  }
 ],
 "metadata": {
  "kernelspec": {
   "display_name": "pyvista_presentation",
   "language": "python",
   "name": "python3"
  },
  "language_info": {
   "codemirror_mode": {
    "name": "ipython",
    "version": 3
   },
   "file_extension": ".py",
   "mimetype": "text/x-python",
   "name": "python",
   "nbconvert_exporter": "python",
   "pygments_lexer": "ipython3",
   "version": "3.8.10"
  },
  "orig_nbformat": 4,
  "vscode": {
   "interpreter": {
    "hash": "3aef563776c0941b406a686acb68c05e52eb2d250e80683d4c9fd2ea031b91ff"
   }
  }
 },
 "nbformat": 4,
 "nbformat_minor": 2
}
