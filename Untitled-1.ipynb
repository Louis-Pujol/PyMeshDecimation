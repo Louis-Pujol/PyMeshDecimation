{
 "cells": [
  {
   "cell_type": "code",
   "execution_count": 2,
   "metadata": {},
   "outputs": [
    {
     "name": "stdout",
     "output_type": "stream",
     "text": [
      "No boundary edges found\n"
     ]
    }
   ],
   "source": [
    "from QuadricDecimation_numba import _do_decimation\n",
    "from QuadricDecimation import _compute_alphas, _decimate\n",
    "import pyvista\n",
    "import numpy as np\n",
    "\n",
    "target_reduction = 0.99\n",
    "\n",
    "mesh = pyvista.read(\"data/mesh003.ply\")\n",
    "output_points, collapses_history, newpoints = _do_decimation(mesh, target_reduction)"
   ]
  },
  {
   "cell_type": "code",
   "execution_count": 3,
   "metadata": {},
   "outputs": [],
   "source": [
    "# Replay the decimation\n",
    "alphas = _compute_alphas(mesh.points, collapses_history, newpoints)\n",
    "decimated_points = _decimate(mesh.points, alphas, collapses_history)\n",
    "keep = np.setdiff1d(np.arange(len(mesh.points)), collapses_history[:, 1])\n",
    "decimated_points = decimated_points[keep]"
   ]
  },
  {
   "cell_type": "code",
   "execution_count": 4,
   "metadata": {},
   "outputs": [],
   "source": [
    "# Decimate with VTK\n",
    "decimated_points_vtk = mesh.decimate(target_reduction).points"
   ]
  },
  {
   "cell_type": "code",
   "execution_count": null,
   "metadata": {},
   "outputs": [],
   "source": [
    "# Save the results\n",
    "pyvista.PolyData(output_points).save(\"output/decimation_numba.vtk\")\n",
    "pyvista.PolyData(decimated_points).save(\"output/decimation_numba_replay.vtk\")\n",
    "pyvista.PolyData(decimated_points_vtk).save(\"output/decimation_vtk.vtk\")"
   ]
  },
  {
   "cell_type": "code",
   "execution_count": 9,
   "metadata": {},
   "outputs": [],
   "source": [
    "for i, mesh in enumerate(\n",
    "    [pyvista.read(\"data/mesh00{}.ply\".format(i)) for i in range(6)]\n",
    "):\n",
    "    # Replay the decimation\n",
    "    decimated_points = _decimate(mesh.points, alphas, collapses_history)\n",
    "    keep = np.setdiff1d(np.arange(len(mesh.points)), collapses_history[:, 1])\n",
    "    decimated_points = decimated_points[keep]\n",
    "\n",
    "    pyvista.PolyData(decimated_points).save(\"output/decimation_mesh{}.vtk\".format(i))"
   ]
  }
 ],
 "metadata": {
  "kernelspec": {
   "display_name": "pyvista_presentation",
   "language": "python",
   "name": "python3"
  },
  "language_info": {
   "codemirror_mode": {
    "name": "ipython",
    "version": 3
   },
   "file_extension": ".py",
   "mimetype": "text/x-python",
   "name": "python",
   "nbconvert_exporter": "python",
   "pygments_lexer": "ipython3",
   "version": "3.8.10"
  },
  "orig_nbformat": 4,
  "vscode": {
   "interpreter": {
    "hash": "3aef563776c0941b406a686acb68c05e52eb2d250e80683d4c9fd2ea031b91ff"
   }
  }
 },
 "nbformat": 4,
 "nbformat_minor": 2
}
