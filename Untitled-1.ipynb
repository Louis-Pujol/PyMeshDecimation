{
 "cells": [
  {
   "cell_type": "code",
   "execution_count": 146,
   "metadata": {},
   "outputs": [
    {
     "data": {
      "text/plain": [
       "dtype('float32')"
      ]
     },
     "execution_count": 146,
     "metadata": {},
     "output_type": "execute_result"
    }
   ],
   "source": [
    "import numpy as np\n",
    "import numba as nb\n",
    "\n",
    "vertices = np.load(\"data/points.npy\")\n",
    "triangles = np.load(\"data/triangles.npy\")\n",
    "\n",
    "# np.save(\"data/triangles.npy\", triangles)\n",
    "vertices.dtype"
   ]
  },
  {
   "cell_type": "code",
   "execution_count": 147,
   "metadata": {},
   "outputs": [],
   "source": [
    "# Extract the edges\n",
    "def compute_edges(triangles):\n",
    "\n",
    "    repeated_edges = np.concatenate(\n",
    "        [\n",
    "            triangles[[0, 1], :],\n",
    "            triangles[[1, 2], :],\n",
    "            triangles[[0, 2], :],\n",
    "        ],\n",
    "        axis=1,\n",
    "    )#.sort(axis=0)\n",
    "\n",
    "\n",
    "    repeated_edges.sort(axis=0)\n",
    "    repeated_edges\n",
    "    # Remove the duplicates and return\n",
    "    return np.unique(repeated_edges, axis=1)"
   ]
  },
  {
   "cell_type": "code",
   "execution_count": 227,
   "metadata": {},
   "outputs": [
    {
     "data": {
      "text/plain": [
       "array([ 5.57331722e-04,  9.50524530e-05, -2.82781574e-05,  6.30280286e-06,\n",
       "        1.67787656e-05, -4.68233882e-06,  1.08253552e-06,  1.85106716e-06,\n",
       "       -4.23505241e-07,  1.00603692e-07,  5.75961554e-04])"
      ]
     },
     "execution_count": 227,
     "metadata": {},
     "output_type": "execute_result"
    }
   ],
   "source": [
    "@nb.jit(nopython=True, fastmath=True)\n",
    "def initialize_quadrics(vertices, triangles, areas=None, Qs_test = None, quadrics_test = None):\n",
    "\n",
    "    quadrics = np.zeros((vertices.shape[0], 11))\n",
    "    \n",
    "    for i in range(triangles.shape[1]):\n",
    "        p0, p1, p2 = vertices[triangles[:, i], :]\n",
    "        n = np.cross(p1 - p0, p2 - p0)\n",
    "        area = np.sqrt(np.sum(n * n)) / 2\n",
    "\n",
    "        if areas is not None:\n",
    "            assert np.isclose(area, areas[i])\n",
    "\n",
    "        n /= 2 * area\n",
    "        assert np.isclose(np.sum(n * n), 1)\n",
    "\n",
    "        d = -np.sum(n * p0)\n",
    "        \n",
    "        # Compute the quadric for this triangle\n",
    "        tmp = np.zeros(4)\n",
    "        tmp[0:3] = n\n",
    "        tmp[3] = d\n",
    "\n",
    "        Q = np.zeros(11 + 4 * 3)\n",
    "        Q[0] = n[0] * n[0]\n",
    "        Q[1] = n[0] * n[1]\n",
    "        Q[2] = n[0] * n[2]\n",
    "        Q[3] = n[0] * d\n",
    "        Q[4] = n[1] * n[1]\n",
    "        Q[5] = n[1] * n[2]\n",
    "        Q[6] = n[1] * d\n",
    "        Q[7] = n[2] * n[2]\n",
    "        Q[8] = n[2] * d\n",
    "        Q[9] = d * d\n",
    "        Q[10] = 1 \n",
    "        Q = Q * area\n",
    "\n",
    "        if Qs_test is not None:\n",
    "            for k in range(11):\n",
    "                assert np.isclose(Q[k], Qs_test[i, k])\n",
    "        \n",
    "        for j in triangles[:, i]:\n",
    "            quadrics[j, 0:11] += Q\n",
    "\n",
    "\n",
    "    i = 245\n",
    "    for k in range(11):\n",
    "        assert np.isclose((quadrics[i, k]), quadrics_test[i, k])\n",
    "\n",
    "    # Normalize the quadrics\n",
    "    return quadrics\n",
    "\n",
    "\n",
    "initialize_quadrics(vertices.astype(np.float64), triangles.astype(np.int64), areas=areas, Qs_test=Qs_flat, quadrics_test=Quadrics_flat)[10]"
   ]
  },
  {
   "cell_type": "code",
   "execution_count": 228,
   "metadata": {},
   "outputs": [
    {
     "name": "stdout",
     "output_type": "stream",
     "text": [
      "1.8298444e-05\n",
      "(25000, 11)\n",
      "[ 6280  6403  6403 ... 12498 12498 12499]\n"
     ]
    },
    {
     "data": {
      "text/plain": [
       "array([[ 1.48762e-02, -6.14501e-02,  2.76644e-01],\n",
       "       [ 1.50120e-02, -6.41695e-02,  2.64778e-01],\n",
       "       [ 1.56310e-02, -4.00601e-02,  2.70403e-01],\n",
       "       ...,\n",
       "       [ 8.10528e-01, -2.02500e-03,  3.28120e-02],\n",
       "       [ 8.15651e-01, -5.44000e-04,  4.60940e-02],\n",
       "       [ 8.21665e-01,  1.85151e-02,  3.85866e-02]], dtype=float32)"
      ]
     },
     "execution_count": 228,
     "metadata": {},
     "output_type": "execute_result"
    }
   ],
   "source": [
    "n_points = vertices.shape[0]\n",
    "n_triangles = triangles.shape[1]\n",
    "\n",
    "A = vertices[triangles[0]]\n",
    "B = vertices[triangles[1]]\n",
    "C = vertices[triangles[2]]\n",
    "\n",
    "\n",
    "ns = np.cross(B - A, C - A) # Normals of the triangles\n",
    "assert ns.shape == (n_triangles, 3) # Check that the shape is correct\n",
    "\n",
    "i = np.random.randint(n_triangles) # Pick a random triangle\n",
    "p0, p1, p2 = vertices[triangles[:, i], :] # Get the vertices of the triangle\n",
    "n = np.cross(p1 - p0, p2 - p0) # Compute the normal\n",
    "assert np.allclose(ns[i], n) # Check that the i's entry of ns is correct\n",
    "\n",
    "areas = np.linalg.norm(ns, axis=1) / 2 # Areas of the triangles\n",
    "print(areas[0])\n",
    "assert areas.shape == (n_triangles,) # Check that the shape is correct\n",
    "\n",
    "ns /= 2 * areas[:, None] # Normalize the normals\n",
    "assert np.allclose(np.linalg.norm(ns, axis=1), 1) # Assert that the normals are actually normalized\n",
    "\n",
    "ds = -np.sum(ns * A, axis=1) # Distance of the plane to the origin\n",
    "\n",
    "tmp = np.concatenate([ns, ds[:, None]], axis=1)\n",
    "assert np.allclose(ns[0], tmp[0, :3]) and np.isclose(ds[0], tmp[0, 3]) # Check that the concatenation is correct\n",
    "\n",
    "Qs = tmp[:, None, :] * tmp[:, :, None] * areas[:, None, None] # The quadric for each triangle (n_triangles, 4, 4)\n",
    "assert Qs.shape == (n_triangles, 4, 4) # Check that the shape is correct\n",
    "\n",
    "i = np.random.randint(n_triangles) # Pick a random triangle\n",
    "j, k = np.random.randint(4, size=2) # Pick two random indices\n",
    "assert np.isclose(Qs[i, j, k], tmp[i, j] * tmp[i, k] * areas[i]) # Check that the outer product is correct for the random triangle and indices\n",
    "\n",
    "\n",
    "# Compute the quadric for each vertex\n",
    "Quadrics = np.zeros((vertices.shape[0], 4, 4))\n",
    "# scatter summation (Quadrics[triangles[0]] += Qs does not work because of the repeated indices)\n",
    "np.add.at(Quadrics, triangles[0], Qs)\n",
    "np.add.at(Quadrics, triangles[1], Qs)\n",
    "np.add.at(Quadrics, triangles[2], Qs)\n",
    "\n",
    "\n",
    "############################\n",
    "# Flat version of the quadrics (VTK implementation)\n",
    "############################\n",
    "\n",
    "Qs_flat = np.zeros((triangles.shape[1], 11))\n",
    "Qs_flat[:, :10] = Qs[:, *np.triu_indices(4)] # Extract the upper triangular part of the quadrics\n",
    "Qs_flat[:, 10] = areas\n",
    "\n",
    "i = np.random.randint(n_triangles) # Pick a random triangle\n",
    "# Check that the flat version is correct for the random triangle\n",
    "assert np.isclose(Qs_flat[i, 0], ns[i, 0] * ns[i, 0] * areas[i])\n",
    "assert np.isclose(Qs_flat[i, 1], ns[i, 0] * ns[i, 1] * areas[i])\n",
    "assert np.isclose(Qs_flat[i, 2], ns[i, 0] * ns[i, 2] * areas[i])\n",
    "assert np.isclose(Qs_flat[i, 3], ns[i, 0] * ds[i] * areas[i])\n",
    "assert np.isclose(Qs_flat[i, 4], ns[i, 1] * ns[i, 1] * areas[i])\n",
    "assert np.isclose(Qs_flat[i, 5], ns[i, 1] * ns[i, 2] * areas[i])\n",
    "assert np.isclose(Qs_flat[i, 6], ns[i, 1] * ds[i] * areas[i])\n",
    "assert np.isclose(Qs_flat[i, 7], ns[i, 2] * ns[i, 2] * areas[i])\n",
    "assert np.isclose(Qs_flat[i, 8], ns[i, 2] * ds[i] * areas[i])\n",
    "assert np.isclose(Qs_flat[i, 9], ds[i] * ds[i] * areas[i])\n",
    "assert np.isclose(Qs_flat[i, 10], areas[i])\n",
    "\n",
    "\n",
    "print(Qs_flat.shape)\n",
    "print(triangles[0])\n",
    "# Compute the quadric for each vertex\n",
    "Quadrics_flat = np.zeros((vertices.shape[0], 11))\n",
    "# scatter summation (Quadrics_flat[triangles[0]] += Qs_flat does not work because of the repeated indices)\n",
    "np.add.at(Quadrics_flat, triangles[0], Qs_flat)\n",
    "np.add.at(Quadrics_flat, triangles[1], Qs_flat)\n",
    "np.add.at(Quadrics_flat, triangles[2], Qs_flat)\n",
    "\n",
    "i = np.random.randint(n_points) # Pick a random vertex\n",
    "# Check that the flat version is correct for the random vertex\n",
    "assert np.allclose(np.sum(Qs_flat[np.where(triangles == i)[1]], axis=0), Quadrics_flat[i])\n",
    "\n",
    "vertices"
   ]
  },
  {
   "cell_type": "code",
   "execution_count": 224,
   "metadata": {},
   "outputs": [
    {
     "ename": "ValueError",
     "evalue": "array is not broadcastable to correct shape",
     "output_type": "error",
     "traceback": [
      "\u001b[0;31m---------------------------------------------------------------------------\u001b[0m",
      "\u001b[0;31mValueError\u001b[0m                                Traceback (most recent call last)",
      "Cell \u001b[0;32mIn[224], line 19\u001b[0m\n\u001b[1;32m     17\u001b[0m \u001b[39m# test[indices] += Qs\u001b[39;00m\n\u001b[1;32m     18\u001b[0m test \u001b[39m=\u001b[39m np\u001b[39m.\u001b[39mzeros((\u001b[39m4\u001b[39m, \u001b[39m2\u001b[39m))\n\u001b[0;32m---> 19\u001b[0m assign(Qs, indices, test)\n\u001b[1;32m     21\u001b[0m \u001b[39massert\u001b[39;00m np\u001b[39m.\u001b[39mallclose(test[\u001b[39m0\u001b[39m], Qs[\u001b[39m0\u001b[39m])\n\u001b[1;32m     22\u001b[0m \u001b[39massert\u001b[39;00m np\u001b[39m.\u001b[39mallclose(test[\u001b[39m2\u001b[39m], Qs[\u001b[39m2\u001b[39m])\n",
      "Cell \u001b[0;32mIn[224], line 16\u001b[0m, in \u001b[0;36massign\u001b[0;34m(vals, idx, target)\u001b[0m\n\u001b[1;32m     14\u001b[0m \u001b[39mdef\u001b[39;00m \u001b[39massign\u001b[39m(vals, idx, target):\n\u001b[0;32m---> 16\u001b[0m     np\u001b[39m.\u001b[39;49madd\u001b[39m.\u001b[39;49mat(target, idx\u001b[39m.\u001b[39;49mravel(), vals\u001b[39m.\u001b[39;49mravel())\n",
      "\u001b[0;31mValueError\u001b[0m: array is not broadcastable to correct shape"
     ]
    }
   ],
   "source": [
    "# 5 triangles 4 vertices\n",
    "\n",
    "Qs = np.random.rand(5, 2)\n",
    "indices = np.array([0, 1, 2, 1, 3])\n",
    "\n",
    "\n",
    "\n",
    "def assign(Qs, indices, n_points):\n",
    "    test = np.zeros((n_points, Qs.shape[1]))\n",
    "    for i in range(len(indices)):\n",
    "        test[indices[i]] += Qs[i]\n",
    "    return test\n",
    "\n",
    "def assign(vals, idx, target):\n",
    "\n",
    "    np.add.at(target, idx.ravel(), vals.ravel())\n",
    "# test[indices] += Qs\n",
    "test = np.zeros((4, 2))\n",
    "assign(Qs, indices, test)\n",
    "\n",
    "assert np.allclose(test[0], Qs[0])\n",
    "assert np.allclose(test[2], Qs[2])\n",
    "assert np.allclose(test[3], Qs[4])\n",
    "assert np.allclose(test[1], Qs[1] + Qs[3])"
   ]
  },
  {
   "cell_type": "code",
   "execution_count": 200,
   "metadata": {},
   "outputs": [
    {
     "data": {
      "text/plain": [
       "array([[0.10969064, 0.50539258],\n",
       "       [0.83944394, 0.12073074],\n",
       "       [0.93888566, 0.53472307],\n",
       "       [0.50264448, 0.00606949]])"
      ]
     },
     "execution_count": 200,
     "metadata": {},
     "output_type": "execute_result"
    }
   ],
   "source": [
    "test"
   ]
  },
  {
   "cell_type": "code",
   "execution_count": 201,
   "metadata": {},
   "outputs": [
    {
     "data": {
      "text/plain": [
       "array([[0.10969064, 0.50539258],\n",
       "       [0.83966809, 0.58590181],\n",
       "       [0.93888566, 0.53472307],\n",
       "       [0.83944394, 0.12073074],\n",
       "       [0.50264448, 0.00606949]])"
      ]
     },
     "execution_count": 201,
     "metadata": {},
     "output_type": "execute_result"
    }
   ],
   "source": [
    "Qs"
   ]
  },
  {
   "cell_type": "code",
   "execution_count": 51,
   "metadata": {},
   "outputs": [
    {
     "data": {
      "text/plain": [
       "(array([0, 0, 0, 0, 1, 1, 1, 2, 2, 3]), array([0, 1, 2, 3, 1, 2, 3, 2, 3, 3]))"
      ]
     },
     "execution_count": 51,
     "metadata": {},
     "output_type": "execute_result"
    }
   ],
   "source": [
    "np.triu_indices(4)"
   ]
  },
  {
   "cell_type": "code",
   "execution_count": 42,
   "metadata": {},
   "outputs": [
    {
     "name": "stdout",
     "output_type": "stream",
     "text": [
      "Number of points: 12500\n",
      "Number of triangles: 25000\n",
      "Shape of Qs: (25000, 4, 4)\n"
     ]
    },
    {
     "data": {
      "text/plain": [
       "(25000, 4, 4)"
      ]
     },
     "execution_count": 42,
     "metadata": {},
     "output_type": "execute_result"
    }
   ],
   "source": [
    "print(\"Number of points:\", vertices.shape[0])\n",
    "print(\"Number of triangles:\", triangles.shape[1])\n",
    "print(\"Shape of Qs:\", Qs.shape)\n",
    "\n",
    "\n",
    "Qs.shape"
   ]
  },
  {
   "cell_type": "code",
   "execution_count": 19,
   "metadata": {},
   "outputs": [
    {
     "ename": "TypeError",
     "evalue": "each subscript must be either an integer or an ellipsis",
     "output_type": "error",
     "traceback": [
      "\u001b[0;31m---------------------------------------------------------------------------\u001b[0m",
      "\u001b[0;31mTypeError\u001b[0m                                 Traceback (most recent call last)",
      "Cell \u001b[0;32mIn[19], line 3\u001b[0m\n\u001b[1;32m      1\u001b[0m X \u001b[39m=\u001b[39m np\u001b[39m.\u001b[39mrandom\u001b[39m.\u001b[39mrand(\u001b[39m10\u001b[39m,\u001b[39m3\u001b[39m)\n\u001b[0;32m----> 3\u001b[0m np\u001b[39m.\u001b[39;49meinsum(X, X, axes\u001b[39m=\u001b[39;49m\u001b[39m0\u001b[39;49m)\u001b[39m.\u001b[39mshape\n",
      "File \u001b[0;32m<__array_function__ internals>:200\u001b[0m, in \u001b[0;36meinsum\u001b[0;34m(*args, **kwargs)\u001b[0m\n",
      "File \u001b[0;32m~/venv/pyDecimation/lib/python3.11/site-packages/numpy/core/einsumfunc.py:1371\u001b[0m, in \u001b[0;36meinsum\u001b[0;34m(out, optimize, *operands, **kwargs)\u001b[0m\n\u001b[1;32m   1369\u001b[0m     \u001b[39mif\u001b[39;00m specified_out:\n\u001b[1;32m   1370\u001b[0m         kwargs[\u001b[39m'\u001b[39m\u001b[39mout\u001b[39m\u001b[39m'\u001b[39m] \u001b[39m=\u001b[39m out\n\u001b[0;32m-> 1371\u001b[0m     \u001b[39mreturn\u001b[39;00m c_einsum(\u001b[39m*\u001b[39;49moperands, \u001b[39m*\u001b[39;49m\u001b[39m*\u001b[39;49mkwargs)\n\u001b[1;32m   1373\u001b[0m \u001b[39m# Check the kwargs to avoid a more cryptic error later, without having to\u001b[39;00m\n\u001b[1;32m   1374\u001b[0m \u001b[39m# repeat default values here\u001b[39;00m\n\u001b[1;32m   1375\u001b[0m valid_einsum_kwargs \u001b[39m=\u001b[39m [\u001b[39m'\u001b[39m\u001b[39mdtype\u001b[39m\u001b[39m'\u001b[39m, \u001b[39m'\u001b[39m\u001b[39morder\u001b[39m\u001b[39m'\u001b[39m, \u001b[39m'\u001b[39m\u001b[39mcasting\u001b[39m\u001b[39m'\u001b[39m]\n",
      "\u001b[0;31mTypeError\u001b[0m: each subscript must be either an integer or an ellipsis"
     ]
    }
   ],
   "source": [
    "X = np.random.rand(10,3)\n",
    "\n",
    "np.tensordot(X, X, axes=1).shape"
   ]
  },
  {
   "cell_type": "code",
   "execution_count": 81,
   "metadata": {},
   "outputs": [],
   "source": [
    "A = np.random.rand(4, 2, 2)"
   ]
  },
  {
   "cell_type": "code",
   "execution_count": 83,
   "metadata": {},
   "outputs": [
    {
     "data": {
      "text/plain": [
       "array([[[   1.04093   ,    1.88223715],\n",
       "        [   1.80896772,    1.91033854]],\n",
       "\n",
       "       [[  10.5931717 ,   10.41769321],\n",
       "        [  10.9931819 ,   10.01422941]],\n",
       "\n",
       "       [[ 100.20182887,  100.44335388],\n",
       "        [ 100.75173884,  100.22105368]],\n",
       "\n",
       "       [[1000.12463827, 1000.31869735],\n",
       "        [1000.90693616, 1000.9310301 ]]])"
      ]
     },
     "execution_count": 83,
     "metadata": {},
     "output_type": "execute_result"
    }
   ],
   "source": [
    "areas = np.array([1, 10, 100, 1000])\n",
    "\n",
    "A + areas[:, None, None]"
   ]
  }
 ],
 "metadata": {
  "kernelspec": {
   "display_name": "pyDecimation",
   "language": "python",
   "name": "python3"
  },
  "language_info": {
   "codemirror_mode": {
    "name": "ipython",
    "version": 3
   },
   "file_extension": ".py",
   "mimetype": "text/x-python",
   "name": "python",
   "nbconvert_exporter": "python",
   "pygments_lexer": "ipython3",
   "version": "3.11.4"
  },
  "orig_nbformat": 4,
  "vscode": {
   "interpreter": {
    "hash": "0094b47e0bc0718e744e6488e49e11b59a2e0a431d135238c4c6b9aee9c50b71"
   }
  }
 },
 "nbformat": 4,
 "nbformat_minor": 2
}
